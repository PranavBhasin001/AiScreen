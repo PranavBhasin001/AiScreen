{
  "nbformat": 4,
  "nbformat_minor": 0,
  "metadata": {
    "colab": {
      "name": "Econ 100b - Problem Set 1.ipynb",
      "version": "0.3.2",
      "provenance": [],
      "collapsed_sections": [],
      "include_colab_link": true
    },
    "language_info": {
      "codemirror_mode": {
        "name": "ipython",
        "version": 3
      },
      "file_extension": ".py",
      "mimetype": "text/x-python",
      "name": "python",
      "nbconvert_exporter": "python",
      "pygments_lexer": "ipython3",
      "version": "3.6.8"
    },
    "kernelspec": {
      "display_name": "Python 3",
      "language": "python",
      "name": "python3"
    }
  },
  "cells": [
    {
      "cell_type": "markdown",
      "metadata": {
        "id": "view-in-github",
        "colab_type": "text"
      },
      "source": [
        "<a href=\"https://colab.research.google.com/github/PranavBhasin001/AiScreen/blob/master/Econ_100b_Problem_Set_1.ipynb\" target=\"_parent\"><img src=\"https://colab.research.google.com/assets/colab-badge.svg\" alt=\"Open In Colab\"/></a>"
      ]
    },
    {
      "cell_type": "markdown",
      "metadata": {
        "id": "k0kI0PL5AyLd",
        "colab_type": "text"
      },
      "source": [
        "# Economics 100B (Summer 2019)\n",
        "\n",
        "# Problem Set 1"
      ]
    },
    {
      "cell_type": "markdown",
      "metadata": {
        "id": "Ww9jMIP_BVVN",
        "colab_type": "text"
      },
      "source": [
        "## 1. Setup\n",
        "----\n"
      ]
    },
    {
      "cell_type": "markdown",
      "metadata": {
        "id": "F9m-WjlOCSlV",
        "colab_type": "text"
      },
      "source": [
        "### 1.1 Pre-Processing"
      ]
    },
    {
      "cell_type": "markdown",
      "metadata": {
        "id": "3Wye7qn4CXfV",
        "colab_type": "text"
      },
      "source": [
        "### 1.2 Environment"
      ]
    },
    {
      "cell_type": "code",
      "metadata": {
        "id": "w4iHDlOQ_0ia",
        "colab_type": "code",
        "colab": {}
      },
      "source": [
        "#Importing Libraries\n",
        "import datetime\n",
        "import pandas as pd\n",
        "import numpy as np\n",
        "import matplotlib.pyplot as plt\n",
        "import matplotlib.ticker as tck\n",
        "%matplotlib inline\n",
        "import numpy as np\n",
        "from numpy.polynomial.polynomial import polyfit\n",
        "import matplotlib.pyplot as plt\n",
        "\n",
        "# Code to read csv file into Colaboratory:\n",
        "!pip install -U -q PyDrive\n",
        "from pydrive.auth import GoogleAuth\n",
        "from pydrive.drive import GoogleDrive\n",
        "from google.colab import auth\n",
        "from oauth2client.client import GoogleCredentials\n",
        "\n",
        "# Authenticate and create the PyDrive client.\n",
        "auth.authenticate_user()\n",
        "gauth = GoogleAuth()\n",
        "gauth.credentials = GoogleCredentials.get_application_default()\n",
        "drive = GoogleDrive(gauth)"
      ],
      "execution_count": 0,
      "outputs": []
    },
    {
      "cell_type": "markdown",
      "metadata": {
        "id": "oNPV2PgfBqf9",
        "colab_type": "text"
      },
      "source": [
        "### 1.3 Files"
      ]
    },
    {
      "cell_type": "code",
      "metadata": {
        "id": "8kYOtngc_0ie",
        "colab_type": "code",
        "colab": {}
      },
      "source": [
        "# File Links\n",
        "csv_file_cpiaucsl = {\"link\" : \"https://drive.google.com/open?id=1uaO861xggI5ozd98bHv5SSqz43l0FLEx\", \"filename\" : \"CPIAUCSL.csv\"}\n",
        "csv_file_question_5 = {\"link\" : \"https://drive.google.com/open?id=1WT3KhikL8DHvNSAtNszQg0dPKWRJLNdh\", \"filename\" : \"question5.csv\"}\n",
        "csv_file_question_6 = {\"link\" : \"https://drive.google.com/open?id=1XztNarZNX8Bsdgx3Rokr0gwERL4P0j47\", \"filename\" : \"question6.csv\"}"
      ],
      "execution_count": 0,
      "outputs": []
    },
    {
      "cell_type": "markdown",
      "metadata": {
        "id": "lDv3sHBCDYCu",
        "colab_type": "text"
      },
      "source": [
        "## 2. Processing"
      ]
    },
    {
      "cell_type": "markdown",
      "metadata": {
        "id": "B60uJIlvDlpm",
        "colab_type": "text"
      },
      "source": [
        "### 2.1 Functions"
      ]
    },
    {
      "cell_type": "code",
      "metadata": {
        "id": "08QFUa_iD3kb",
        "colab_type": "code",
        "colab": {}
      },
      "source": [
        "def import_file_and_read_to_dataframe(link, filename):\n",
        "  fluff, id = link.split('=')\n",
        "  downloaded = drive.CreateFile({'id':id}) \n",
        "  downloaded.GetContentFile(filename)\n",
        "  df = pd.read_csv(filename)\n",
        "  return df\n",
        "  \n",
        "def add_column_annual_quarter_inflation_rate(df, cpi_column, column_name, lower_range, upper_range):\n",
        "  \n",
        "  inflation_array = np.array([0, 0, 0, 0])\n",
        "  \n",
        "  for i in range(lower_range + 4, upper_range):\n",
        "    prev = float(df[cpi_column][i - 4])\n",
        "    curr = float(df[cpi_column][i])\n",
        "    inflation_array = np.append(inflation_array, (curr - prev)/prev)\n",
        "  \n",
        "  inflation_array = np.append(inflation_array, 0)\n",
        "  \n",
        "  df[column_name] = inflation_array\n",
        "\n",
        "def get_year(date_in_string):\n",
        "  return date_in_string[:3]\n",
        "\n",
        "def add_column_log_ratios(df, new_column_name, numerator, denominator):\n",
        "  log_ratios = np.log(np.divide(numerator, denominator))\n",
        "  df[new_column_name] = log_ratios\n",
        "  \n",
        "  \n"
      ],
      "execution_count": 0,
      "outputs": []
    },
    {
      "cell_type": "markdown",
      "metadata": {
        "id": "JQHNrdtyJf-5",
        "colab_type": "text"
      },
      "source": [
        "###2.2 Files"
      ]
    },
    {
      "cell_type": "code",
      "metadata": {
        "id": "7APdrZRhFhU3",
        "colab_type": "code",
        "colab": {}
      },
      "source": [
        "# Importing Files\n",
        "df_cpiauscl = import_file_and_read_to_dataframe(csv_file_cpiaucsl[\"link\"], csv_file_cpiaucsl[\"filename\"])\n",
        "df_question_5 = import_file_and_read_to_dataframe(csv_file_question_5[\"link\"], csv_file_question_5[\"filename\"])\n",
        "df_question_6 = import_file_and_read_to_dataframe(csv_file_question_6[\"link\"], csv_file_question_6[\"filename\"])\n"
      ],
      "execution_count": 0,
      "outputs": []
    },
    {
      "cell_type": "markdown",
      "metadata": {
        "id": "RpQmHbQ9DrjV",
        "colab_type": "text"
      },
      "source": [
        "#### 2.2.1 Question 4"
      ]
    },
    {
      "cell_type": "code",
      "metadata": {
        "id": "yHDchpvYDqeF",
        "colab_type": "code",
        "colab": {
          "base_uri": "https://localhost:8080/",
          "height": 197
        },
        "outputId": "4d1a7e84-3da4-4794-9aa3-4e93b75655e6"
      },
      "source": [
        "# Access DataFrame\n",
        "df_cpiauscl.head(5)"
      ],
      "execution_count": 5,
      "outputs": [
        {
          "output_type": "execute_result",
          "data": {
            "text/html": [
              "<div>\n",
              "<style scoped>\n",
              "    .dataframe tbody tr th:only-of-type {\n",
              "        vertical-align: middle;\n",
              "    }\n",
              "\n",
              "    .dataframe tbody tr th {\n",
              "        vertical-align: top;\n",
              "    }\n",
              "\n",
              "    .dataframe thead th {\n",
              "        text-align: right;\n",
              "    }\n",
              "</style>\n",
              "<table border=\"1\" class=\"dataframe\">\n",
              "  <thead>\n",
              "    <tr style=\"text-align: right;\">\n",
              "      <th></th>\n",
              "      <th>DATE</th>\n",
              "      <th>CPIAUCSL</th>\n",
              "    </tr>\n",
              "  </thead>\n",
              "  <tbody>\n",
              "    <tr>\n",
              "      <th>0</th>\n",
              "      <td>1947-01-01</td>\n",
              "      <td>21.7000000000000000</td>\n",
              "    </tr>\n",
              "    <tr>\n",
              "      <th>1</th>\n",
              "      <td>1947-04-01</td>\n",
              "      <td>22.0100000000000000</td>\n",
              "    </tr>\n",
              "    <tr>\n",
              "      <th>2</th>\n",
              "      <td>1947-07-01</td>\n",
              "      <td>22.4900000000000000</td>\n",
              "    </tr>\n",
              "    <tr>\n",
              "      <th>3</th>\n",
              "      <td>1947-10-01</td>\n",
              "      <td>23.1266666666666667</td>\n",
              "    </tr>\n",
              "    <tr>\n",
              "      <th>4</th>\n",
              "      <td>1948-01-01</td>\n",
              "      <td>23.6166666666666667</td>\n",
              "    </tr>\n",
              "  </tbody>\n",
              "</table>\n",
              "</div>"
            ],
            "text/plain": [
              "         DATE             CPIAUCSL\n",
              "0  1947-01-01  21.7000000000000000\n",
              "1  1947-04-01  22.0100000000000000\n",
              "2  1947-07-01  22.4900000000000000\n",
              "3  1947-10-01  23.1266666666666667\n",
              "4  1948-01-01  23.6166666666666667"
            ]
          },
          "metadata": {
            "tags": []
          },
          "execution_count": 5
        }
      ]
    },
    {
      "cell_type": "code",
      "metadata": {
        "id": "6WDBMRhoLJ_3",
        "colab_type": "code",
        "colab": {}
      },
      "source": [
        "# Creating Column Annual Inflation Rate\n",
        "add_column_annual_quarter_inflation_rate(df_cpiauscl, \"CPIAUCSL\", \"INFLATION RATE\", 0, len(df_cpiauscl) -1 )"
      ],
      "execution_count": 0,
      "outputs": []
    },
    {
      "cell_type": "code",
      "metadata": {
        "id": "F9EOe8OLLQ_p",
        "colab_type": "code",
        "colab": {
          "base_uri": "https://localhost:8080/",
          "height": 317
        },
        "outputId": "bc5cb663-7783-42c7-d9dd-56f6cff2600b"
      },
      "source": [
        "# Show Updated DataFrame\n",
        "df_cpiauscl.head(9)"
      ],
      "execution_count": 7,
      "outputs": [
        {
          "output_type": "execute_result",
          "data": {
            "text/html": [
              "<div>\n",
              "<style scoped>\n",
              "    .dataframe tbody tr th:only-of-type {\n",
              "        vertical-align: middle;\n",
              "    }\n",
              "\n",
              "    .dataframe tbody tr th {\n",
              "        vertical-align: top;\n",
              "    }\n",
              "\n",
              "    .dataframe thead th {\n",
              "        text-align: right;\n",
              "    }\n",
              "</style>\n",
              "<table border=\"1\" class=\"dataframe\">\n",
              "  <thead>\n",
              "    <tr style=\"text-align: right;\">\n",
              "      <th></th>\n",
              "      <th>DATE</th>\n",
              "      <th>CPIAUCSL</th>\n",
              "      <th>INFLATION RATE</th>\n",
              "    </tr>\n",
              "  </thead>\n",
              "  <tbody>\n",
              "    <tr>\n",
              "      <th>0</th>\n",
              "      <td>1947-01-01</td>\n",
              "      <td>21.7000000000000000</td>\n",
              "      <td>0.000000</td>\n",
              "    </tr>\n",
              "    <tr>\n",
              "      <th>1</th>\n",
              "      <td>1947-04-01</td>\n",
              "      <td>22.0100000000000000</td>\n",
              "      <td>0.000000</td>\n",
              "    </tr>\n",
              "    <tr>\n",
              "      <th>2</th>\n",
              "      <td>1947-07-01</td>\n",
              "      <td>22.4900000000000000</td>\n",
              "      <td>0.000000</td>\n",
              "    </tr>\n",
              "    <tr>\n",
              "      <th>3</th>\n",
              "      <td>1947-10-01</td>\n",
              "      <td>23.1266666666666667</td>\n",
              "      <td>0.000000</td>\n",
              "    </tr>\n",
              "    <tr>\n",
              "      <th>4</th>\n",
              "      <td>1948-01-01</td>\n",
              "      <td>23.6166666666666667</td>\n",
              "      <td>0.088326</td>\n",
              "    </tr>\n",
              "    <tr>\n",
              "      <th>5</th>\n",
              "      <td>1948-04-01</td>\n",
              "      <td>23.9933333333333333</td>\n",
              "      <td>0.090111</td>\n",
              "    </tr>\n",
              "    <tr>\n",
              "      <th>6</th>\n",
              "      <td>1948-07-01</td>\n",
              "      <td>24.3966666666666667</td>\n",
              "      <td>0.084778</td>\n",
              "    </tr>\n",
              "    <tr>\n",
              "      <th>7</th>\n",
              "      <td>1948-10-01</td>\n",
              "      <td>24.1733333333333333</td>\n",
              "      <td>0.045258</td>\n",
              "    </tr>\n",
              "    <tr>\n",
              "      <th>8</th>\n",
              "      <td>1949-01-01</td>\n",
              "      <td>23.9433333333333333</td>\n",
              "      <td>0.013832</td>\n",
              "    </tr>\n",
              "  </tbody>\n",
              "</table>\n",
              "</div>"
            ],
            "text/plain": [
              "         DATE             CPIAUCSL  INFLATION RATE\n",
              "0  1947-01-01  21.7000000000000000        0.000000\n",
              "1  1947-04-01  22.0100000000000000        0.000000\n",
              "2  1947-07-01  22.4900000000000000        0.000000\n",
              "3  1947-10-01  23.1266666666666667        0.000000\n",
              "4  1948-01-01  23.6166666666666667        0.088326\n",
              "5  1948-04-01  23.9933333333333333        0.090111\n",
              "6  1948-07-01  24.3966666666666667        0.084778\n",
              "7  1948-10-01  24.1733333333333333        0.045258\n",
              "8  1949-01-01  23.9433333333333333        0.013832"
            ]
          },
          "metadata": {
            "tags": []
          },
          "execution_count": 7
        }
      ]
    },
    {
      "cell_type": "code",
      "metadata": {
        "id": "xrn43wQoQ2XC",
        "colab_type": "code",
        "colab": {
          "base_uri": "https://localhost:8080/",
          "height": 197
        },
        "outputId": "f3e2b140-2211-4dae-a44b-03879c2a7453"
      },
      "source": [
        "# Dropping First 4 Rows\n",
        "df_cpiauscl_year_inflation_rate = df_cpiauscl.drop(df_cpiauscl.index[[0, 1, 2, 3]])\n",
        "df_cpiauscl_year_inflation_rate.head(5)"
      ],
      "execution_count": 8,
      "outputs": [
        {
          "output_type": "execute_result",
          "data": {
            "text/html": [
              "<div>\n",
              "<style scoped>\n",
              "    .dataframe tbody tr th:only-of-type {\n",
              "        vertical-align: middle;\n",
              "    }\n",
              "\n",
              "    .dataframe tbody tr th {\n",
              "        vertical-align: top;\n",
              "    }\n",
              "\n",
              "    .dataframe thead th {\n",
              "        text-align: right;\n",
              "    }\n",
              "</style>\n",
              "<table border=\"1\" class=\"dataframe\">\n",
              "  <thead>\n",
              "    <tr style=\"text-align: right;\">\n",
              "      <th></th>\n",
              "      <th>DATE</th>\n",
              "      <th>CPIAUCSL</th>\n",
              "      <th>INFLATION RATE</th>\n",
              "    </tr>\n",
              "  </thead>\n",
              "  <tbody>\n",
              "    <tr>\n",
              "      <th>4</th>\n",
              "      <td>1948-01-01</td>\n",
              "      <td>23.6166666666666667</td>\n",
              "      <td>0.088326</td>\n",
              "    </tr>\n",
              "    <tr>\n",
              "      <th>5</th>\n",
              "      <td>1948-04-01</td>\n",
              "      <td>23.9933333333333333</td>\n",
              "      <td>0.090111</td>\n",
              "    </tr>\n",
              "    <tr>\n",
              "      <th>6</th>\n",
              "      <td>1948-07-01</td>\n",
              "      <td>24.3966666666666667</td>\n",
              "      <td>0.084778</td>\n",
              "    </tr>\n",
              "    <tr>\n",
              "      <th>7</th>\n",
              "      <td>1948-10-01</td>\n",
              "      <td>24.1733333333333333</td>\n",
              "      <td>0.045258</td>\n",
              "    </tr>\n",
              "    <tr>\n",
              "      <th>8</th>\n",
              "      <td>1949-01-01</td>\n",
              "      <td>23.9433333333333333</td>\n",
              "      <td>0.013832</td>\n",
              "    </tr>\n",
              "  </tbody>\n",
              "</table>\n",
              "</div>"
            ],
            "text/plain": [
              "         DATE             CPIAUCSL  INFLATION RATE\n",
              "4  1948-01-01  23.6166666666666667        0.088326\n",
              "5  1948-04-01  23.9933333333333333        0.090111\n",
              "6  1948-07-01  24.3966666666666667        0.084778\n",
              "7  1948-10-01  24.1733333333333333        0.045258\n",
              "8  1949-01-01  23.9433333333333333        0.013832"
            ]
          },
          "metadata": {
            "tags": []
          },
          "execution_count": 8
        }
      ]
    },
    {
      "cell_type": "code",
      "metadata": {
        "id": "CxriSq49RfI2",
        "colab_type": "code",
        "colab": {
          "base_uri": "https://localhost:8080/",
          "height": 304
        },
        "outputId": "2678524c-801a-419c-9d78-b7d2417be3a2"
      },
      "source": [
        "plt.plot(df_cpiauscl[\"DATE\"], df_cpiauscl[\"INFLATION RATE\"]*100, 'r--')\n",
        "plt.ylabel(\"Inflation Rate (in %)\")\n",
        "plt.xlabel(\"Time (Year)\")\n",
        "plt.title(\"Annual Inflation Rate Based on CPI\")\n",
        "ticks = np.arange(0, 289, 60.4167)\n",
        "ticks_labels = np.arange(1947, 2019, 15)\n",
        "plt.xticks(ticks, ticks_labels)\n",
        "plt.text(-2, -7, \"Source: FRED/BLS\")\n",
        "plt.show()"
      ],
      "execution_count": 9,
      "outputs": [
        {
          "output_type": "display_data",
          "data": {
            "image/png": "[encoded data removed]",
            "text/plain": [
              "<Figure size 432x288 with 1 Axes>"
            ]
          },
          "metadata": {
            "tags": []
          }
        }
      ]
    },
    {
      "cell_type": "markdown",
      "metadata": {
        "id": "Gzq5gUIcb10a",
        "colab_type": "text"
      },
      "source": [
        "### 2.2.2 Question 5"
      ]
    },
    {
      "cell_type": "markdown",
      "metadata": {
        "id": "mGlHKZ5ydJ9x",
        "colab_type": "text"
      },
      "source": [
        "2.2.2.(a)"
      ]
    },
    {
      "cell_type": "code",
      "metadata": {
        "id": "r0Z2u3iMas3U",
        "colab_type": "code",
        "colab": {
          "base_uri": "https://localhost:8080/",
          "height": 347
        },
        "outputId": "b91c3405-97a1-4d47-88ce-da68c89436b7"
      },
      "source": [
        "# Calculated indices for capital and labor\n",
        "df_question_5.head(10)"
      ],
      "execution_count": 10,
      "outputs": [
        {
          "output_type": "execute_result",
          "data": {
            "text/html": [
              "<div>\n",
              "<style scoped>\n",
              "    .dataframe tbody tr th:only-of-type {\n",
              "        vertical-align: middle;\n",
              "    }\n",
              "\n",
              "    .dataframe tbody tr th {\n",
              "        vertical-align: top;\n",
              "    }\n",
              "\n",
              "    .dataframe thead th {\n",
              "        text-align: right;\n",
              "    }\n",
              "</style>\n",
              "<table border=\"1\" class=\"dataframe\">\n",
              "  <thead>\n",
              "    <tr style=\"text-align: right;\">\n",
              "      <th></th>\n",
              "      <th>Year</th>\n",
              "      <th>Total Fixed Capital in 1880 dollars</th>\n",
              "      <th>Relative Total Capital (1899 = 100) (Indices for Capital)</th>\n",
              "      <th>Average Number employed (in thousands)</th>\n",
              "      <th>Relative Number (1899=100) (Indices For Labor)</th>\n",
              "      <th>Index Of Manufacture</th>\n",
              "    </tr>\n",
              "  </thead>\n",
              "  <tbody>\n",
              "    <tr>\n",
              "      <th>0</th>\n",
              "      <td>1899</td>\n",
              "      <td>4449</td>\n",
              "      <td>100.000000</td>\n",
              "      <td>4713</td>\n",
              "      <td>100.000000</td>\n",
              "      <td>100</td>\n",
              "    </tr>\n",
              "    <tr>\n",
              "      <th>1</th>\n",
              "      <td>1900</td>\n",
              "      <td>4746</td>\n",
              "      <td>106.675657</td>\n",
              "      <td>4968</td>\n",
              "      <td>105.410567</td>\n",
              "      <td>101</td>\n",
              "    </tr>\n",
              "    <tr>\n",
              "      <th>2</th>\n",
              "      <td>1901</td>\n",
              "      <td>5061</td>\n",
              "      <td>113.755900</td>\n",
              "      <td>5184</td>\n",
              "      <td>109.993635</td>\n",
              "      <td>112</td>\n",
              "    </tr>\n",
              "    <tr>\n",
              "      <th>3</th>\n",
              "      <td>1902</td>\n",
              "      <td>5444</td>\n",
              "      <td>122.364576</td>\n",
              "      <td>5554</td>\n",
              "      <td>117.844261</td>\n",
              "      <td>122</td>\n",
              "    </tr>\n",
              "    <tr>\n",
              "      <th>4</th>\n",
              "      <td>1903</td>\n",
              "      <td>5806</td>\n",
              "      <td>130.501236</td>\n",
              "      <td>5784</td>\n",
              "      <td>122.724379</td>\n",
              "      <td>124</td>\n",
              "    </tr>\n",
              "    <tr>\n",
              "      <th>5</th>\n",
              "      <td>1904</td>\n",
              "      <td>6132</td>\n",
              "      <td>137.828726</td>\n",
              "      <td>5468</td>\n",
              "      <td>116.019521</td>\n",
              "      <td>122</td>\n",
              "    </tr>\n",
              "    <tr>\n",
              "      <th>6</th>\n",
              "      <td>1905</td>\n",
              "      <td>6626</td>\n",
              "      <td>148.932344</td>\n",
              "      <td>5906</td>\n",
              "      <td>125.312964</td>\n",
              "      <td>148</td>\n",
              "    </tr>\n",
              "    <tr>\n",
              "      <th>7</th>\n",
              "      <td>1906</td>\n",
              "      <td>7237</td>\n",
              "      <td>162.665768</td>\n",
              "      <td>6251</td>\n",
              "      <td>132.633142</td>\n",
              "      <td>152</td>\n",
              "    </tr>\n",
              "    <tr>\n",
              "      <th>8</th>\n",
              "      <td>1907</td>\n",
              "      <td>7832</td>\n",
              "      <td>176.039559</td>\n",
              "      <td>6488</td>\n",
              "      <td>137.661787</td>\n",
              "      <td>151</td>\n",
              "    </tr>\n",
              "    <tr>\n",
              "      <th>9</th>\n",
              "      <td>1908</td>\n",
              "      <td>8220</td>\n",
              "      <td>184.760620</td>\n",
              "      <td>5714</td>\n",
              "      <td>121.239126</td>\n",
              "      <td>126</td>\n",
              "    </tr>\n",
              "  </tbody>\n",
              "</table>\n",
              "</div>"
            ],
            "text/plain": [
              "   Year  ...  Index Of Manufacture\n",
              "0  1899  ...                   100\n",
              "1  1900  ...                   101\n",
              "2  1901  ...                   112\n",
              "3  1902  ...                   122\n",
              "4  1903  ...                   124\n",
              "5  1904  ...                   122\n",
              "6  1905  ...                   148\n",
              "7  1906  ...                   152\n",
              "8  1907  ...                   151\n",
              "9  1908  ...                   126\n",
              "\n",
              "[10 rows x 6 columns]"
            ]
          },
          "metadata": {
            "tags": []
          },
          "execution_count": 10
        }
      ]
    },
    {
      "cell_type": "code",
      "metadata": {
        "id": "prCAh-gTc8cw",
        "colab_type": "code",
        "colab": {
          "base_uri": "https://localhost:8080/",
          "height": 322
        },
        "outputId": "4c6cf62d-1c06-4a19-d473-4e3a2420e57a"
      },
      "source": [
        "plt.plot(df_question_5[\"Year\"], df_question_5[\"Relative Total Capital (1899 = 100) (Indices for Capital)\"], 'r--')\n",
        "plt.plot(df_question_5[\"Year\"], df_question_5[\"Relative Number (1899=100) (Indices For Labor)\"], 'b--')\n",
        "plt.plot(df_question_5[\"Year\"], df_question_5[\"Index Of Manufacture\"], 'g--')\n",
        "plt.ylabel(\"Indices\")\n",
        "plt.xlabel(\"Time (Year)\")\n",
        "plt.title(\"Annual Inflation Rate Based on CPI\")\n",
        "ticks = (np.arange(1947, 2020, 10))\n",
        "plt.text(1890,-10, \"Source: American Economic Association/The American Economic Review\")\n",
        "plt.legend()\n",
        "plt.show()"
      ],
      "execution_count": 11,
      "outputs": [
        {
          "output_type": "display_data",
          "data": {
            "image/png": "[encoded data removed]",
            "text/plain": [
              "<Figure size 432x288 with 1 Axes>"
            ]
          },
          "metadata": {
            "tags": []
          }
        }
      ]
    },
    {
      "cell_type": "markdown",
      "metadata": {
        "id": "_0vB1UFnhtnc",
        "colab_type": "text"
      },
      "source": [
        "2.2.2.(b)"
      ]
    },
    {
      "cell_type": "code",
      "metadata": {
        "id": "SVILPOmLd4WY",
        "colab_type": "code",
        "colab": {
          "base_uri": "https://localhost:8080/",
          "height": 347
        },
        "outputId": "b6418b7d-0289-4411-9828-9160deb04ad5"
      },
      "source": [
        "add_column_log_ratios(df_question_5,\n",
        "                      \"Ln (K/L)\",\n",
        "                      df_question_5[\"Relative Total Capital (1899 = 100) (Indices for Capital)\"],\n",
        "                      df_question_5[\"Relative Number (1899=100) (Indices For Labor)\"])\n",
        "df_question_5.head(10)"
      ],
      "execution_count": 12,
      "outputs": [
        {
          "output_type": "execute_result",
          "data": {
            "text/html": [
              "<div>\n",
              "<style scoped>\n",
              "    .dataframe tbody tr th:only-of-type {\n",
              "        vertical-align: middle;\n",
              "    }\n",
              "\n",
              "    .dataframe tbody tr th {\n",
              "        vertical-align: top;\n",
              "    }\n",
              "\n",
              "    .dataframe thead th {\n",
              "        text-align: right;\n",
              "    }\n",
              "</style>\n",
              "<table border=\"1\" class=\"dataframe\">\n",
              "  <thead>\n",
              "    <tr style=\"text-align: right;\">\n",
              "      <th></th>\n",
              "      <th>Year</th>\n",
              "      <th>Total Fixed Capital in 1880 dollars</th>\n",
              "      <th>Relative Total Capital (1899 = 100) (Indices for Capital)</th>\n",
              "      <th>Average Number employed (in thousands)</th>\n",
              "      <th>Relative Number (1899=100) (Indices For Labor)</th>\n",
              "      <th>Index Of Manufacture</th>\n",
              "      <th>Ln (K/L)</th>\n",
              "    </tr>\n",
              "  </thead>\n",
              "  <tbody>\n",
              "    <tr>\n",
              "      <th>0</th>\n",
              "      <td>1899</td>\n",
              "      <td>4449</td>\n",
              "      <td>100.000000</td>\n",
              "      <td>4713</td>\n",
              "      <td>100.000000</td>\n",
              "      <td>100</td>\n",
              "      <td>0.000000</td>\n",
              "    </tr>\n",
              "    <tr>\n",
              "      <th>1</th>\n",
              "      <td>1900</td>\n",
              "      <td>4746</td>\n",
              "      <td>106.675657</td>\n",
              "      <td>4968</td>\n",
              "      <td>105.410567</td>\n",
              "      <td>101</td>\n",
              "      <td>0.011930</td>\n",
              "    </tr>\n",
              "    <tr>\n",
              "      <th>2</th>\n",
              "      <td>1901</td>\n",
              "      <td>5061</td>\n",
              "      <td>113.755900</td>\n",
              "      <td>5184</td>\n",
              "      <td>109.993635</td>\n",
              "      <td>112</td>\n",
              "      <td>0.033632</td>\n",
              "    </tr>\n",
              "    <tr>\n",
              "      <th>3</th>\n",
              "      <td>1902</td>\n",
              "      <td>5444</td>\n",
              "      <td>122.364576</td>\n",
              "      <td>5554</td>\n",
              "      <td>117.844261</td>\n",
              "      <td>122</td>\n",
              "      <td>0.037641</td>\n",
              "    </tr>\n",
              "    <tr>\n",
              "      <th>4</th>\n",
              "      <td>1903</td>\n",
              "      <td>5806</td>\n",
              "      <td>130.501236</td>\n",
              "      <td>5784</td>\n",
              "      <td>122.724379</td>\n",
              "      <td>124</td>\n",
              "      <td>0.061442</td>\n",
              "    </tr>\n",
              "    <tr>\n",
              "      <th>5</th>\n",
              "      <td>1904</td>\n",
              "      <td>6132</td>\n",
              "      <td>137.828726</td>\n",
              "      <td>5468</td>\n",
              "      <td>116.019521</td>\n",
              "      <td>122</td>\n",
              "      <td>0.172253</td>\n",
              "    </tr>\n",
              "    <tr>\n",
              "      <th>6</th>\n",
              "      <td>1905</td>\n",
              "      <td>6626</td>\n",
              "      <td>148.932344</td>\n",
              "      <td>5906</td>\n",
              "      <td>125.312964</td>\n",
              "      <td>148</td>\n",
              "      <td>0.172678</td>\n",
              "    </tr>\n",
              "    <tr>\n",
              "      <th>7</th>\n",
              "      <td>1906</td>\n",
              "      <td>7237</td>\n",
              "      <td>162.665768</td>\n",
              "      <td>6251</td>\n",
              "      <td>132.633142</td>\n",
              "      <td>152</td>\n",
              "      <td>0.204111</td>\n",
              "    </tr>\n",
              "    <tr>\n",
              "      <th>8</th>\n",
              "      <td>1907</td>\n",
              "      <td>7832</td>\n",
              "      <td>176.039559</td>\n",
              "      <td>6488</td>\n",
              "      <td>137.661787</td>\n",
              "      <td>151</td>\n",
              "      <td>0.245909</td>\n",
              "    </tr>\n",
              "    <tr>\n",
              "      <th>9</th>\n",
              "      <td>1908</td>\n",
              "      <td>8220</td>\n",
              "      <td>184.760620</td>\n",
              "      <td>5714</td>\n",
              "      <td>121.239126</td>\n",
              "      <td>126</td>\n",
              "      <td>0.421296</td>\n",
              "    </tr>\n",
              "  </tbody>\n",
              "</table>\n",
              "</div>"
            ],
            "text/plain": [
              "   Year  Total Fixed Capital in 1880 dollars  ...  Index Of Manufacture  Ln (K/L)\n",
              "0  1899                                 4449  ...                   100  0.000000\n",
              "1  1900                                 4746  ...                   101  0.011930\n",
              "2  1901                                 5061  ...                   112  0.033632\n",
              "3  1902                                 5444  ...                   122  0.037641\n",
              "4  1903                                 5806  ...                   124  0.061442\n",
              "5  1904                                 6132  ...                   122  0.172253\n",
              "6  1905                                 6626  ...                   148  0.172678\n",
              "7  1906                                 7237  ...                   152  0.204111\n",
              "8  1907                                 7832  ...                   151  0.245909\n",
              "9  1908                                 8220  ...                   126  0.421296\n",
              "\n",
              "[10 rows x 7 columns]"
            ]
          },
          "metadata": {
            "tags": []
          },
          "execution_count": 12
        }
      ]
    },
    {
      "cell_type": "code",
      "metadata": {
        "id": "W_rhfpBYjT6j",
        "colab_type": "code",
        "colab": {
          "base_uri": "https://localhost:8080/",
          "height": 347
        },
        "outputId": "c575abfa-516e-4997-ec41-d2910ea3ff0b"
      },
      "source": [
        "add_column_log_ratios(df_question_5,\n",
        "                      \"Ln (Y/L)\",\n",
        "                      df_question_5[\"Index Of Manufacture\"],\n",
        "                      df_question_5[\"Relative Number (1899=100) (Indices For Labor)\"])\n",
        "df_question_5.head(10)"
      ],
      "execution_count": 13,
      "outputs": [
        {
          "output_type": "execute_result",
          "data": {
            "text/html": [
              "<div>\n",
              "<style scoped>\n",
              "    .dataframe tbody tr th:only-of-type {\n",
              "        vertical-align: middle;\n",
              "    }\n",
              "\n",
              "    .dataframe tbody tr th {\n",
              "        vertical-align: top;\n",
              "    }\n",
              "\n",
              "    .dataframe thead th {\n",
              "        text-align: right;\n",
              "    }\n",
              "</style>\n",
              "<table border=\"1\" class=\"dataframe\">\n",
              "  <thead>\n",
              "    <tr style=\"text-align: right;\">\n",
              "      <th></th>\n",
              "      <th>Year</th>\n",
              "      <th>Total Fixed Capital in 1880 dollars</th>\n",
              "      <th>Relative Total Capital (1899 = 100) (Indices for Capital)</th>\n",
              "      <th>Average Number employed (in thousands)</th>\n",
              "      <th>Relative Number (1899=100) (Indices For Labor)</th>\n",
              "      <th>Index Of Manufacture</th>\n",
              "      <th>Ln (K/L)</th>\n",
              "      <th>Ln (Y/L)</th>\n",
              "    </tr>\n",
              "  </thead>\n",
              "  <tbody>\n",
              "    <tr>\n",
              "      <th>0</th>\n",
              "      <td>1899</td>\n",
              "      <td>4449</td>\n",
              "      <td>100.000000</td>\n",
              "      <td>4713</td>\n",
              "      <td>100.000000</td>\n",
              "      <td>100</td>\n",
              "      <td>0.000000</td>\n",
              "      <td>0.000000</td>\n",
              "    </tr>\n",
              "    <tr>\n",
              "      <th>1</th>\n",
              "      <td>1900</td>\n",
              "      <td>4746</td>\n",
              "      <td>106.675657</td>\n",
              "      <td>4968</td>\n",
              "      <td>105.410567</td>\n",
              "      <td>101</td>\n",
              "      <td>0.011930</td>\n",
              "      <td>-0.042742</td>\n",
              "    </tr>\n",
              "    <tr>\n",
              "      <th>2</th>\n",
              "      <td>1901</td>\n",
              "      <td>5061</td>\n",
              "      <td>113.755900</td>\n",
              "      <td>5184</td>\n",
              "      <td>109.993635</td>\n",
              "      <td>112</td>\n",
              "      <td>0.033632</td>\n",
              "      <td>0.018076</td>\n",
              "    </tr>\n",
              "    <tr>\n",
              "      <th>3</th>\n",
              "      <td>1902</td>\n",
              "      <td>5444</td>\n",
              "      <td>122.364576</td>\n",
              "      <td>5554</td>\n",
              "      <td>117.844261</td>\n",
              "      <td>122</td>\n",
              "      <td>0.037641</td>\n",
              "      <td>0.034657</td>\n",
              "    </tr>\n",
              "    <tr>\n",
              "      <th>4</th>\n",
              "      <td>1903</td>\n",
              "      <td>5806</td>\n",
              "      <td>130.501236</td>\n",
              "      <td>5784</td>\n",
              "      <td>122.724379</td>\n",
              "      <td>124</td>\n",
              "      <td>0.061442</td>\n",
              "      <td>0.010341</td>\n",
              "    </tr>\n",
              "    <tr>\n",
              "      <th>5</th>\n",
              "      <td>1904</td>\n",
              "      <td>6132</td>\n",
              "      <td>137.828726</td>\n",
              "      <td>5468</td>\n",
              "      <td>116.019521</td>\n",
              "      <td>122</td>\n",
              "      <td>0.172253</td>\n",
              "      <td>0.050263</td>\n",
              "    </tr>\n",
              "    <tr>\n",
              "      <th>6</th>\n",
              "      <td>1905</td>\n",
              "      <td>6626</td>\n",
              "      <td>148.932344</td>\n",
              "      <td>5906</td>\n",
              "      <td>125.312964</td>\n",
              "      <td>148</td>\n",
              "      <td>0.172678</td>\n",
              "      <td>0.166398</td>\n",
              "    </tr>\n",
              "    <tr>\n",
              "      <th>7</th>\n",
              "      <td>1906</td>\n",
              "      <td>7237</td>\n",
              "      <td>162.665768</td>\n",
              "      <td>6251</td>\n",
              "      <td>132.633142</td>\n",
              "      <td>152</td>\n",
              "      <td>0.204111</td>\n",
              "      <td>0.136294</td>\n",
              "    </tr>\n",
              "    <tr>\n",
              "      <th>8</th>\n",
              "      <td>1907</td>\n",
              "      <td>7832</td>\n",
              "      <td>176.039559</td>\n",
              "      <td>6488</td>\n",
              "      <td>137.661787</td>\n",
              "      <td>151</td>\n",
              "      <td>0.245909</td>\n",
              "      <td>0.092480</td>\n",
              "    </tr>\n",
              "    <tr>\n",
              "      <th>9</th>\n",
              "      <td>1908</td>\n",
              "      <td>8220</td>\n",
              "      <td>184.760620</td>\n",
              "      <td>5714</td>\n",
              "      <td>121.239126</td>\n",
              "      <td>126</td>\n",
              "      <td>0.421296</td>\n",
              "      <td>0.038517</td>\n",
              "    </tr>\n",
              "  </tbody>\n",
              "</table>\n",
              "</div>"
            ],
            "text/plain": [
              "   Year  Total Fixed Capital in 1880 dollars  ...  Ln (K/L)  Ln (Y/L)\n",
              "0  1899                                 4449  ...  0.000000  0.000000\n",
              "1  1900                                 4746  ...  0.011930 -0.042742\n",
              "2  1901                                 5061  ...  0.033632  0.018076\n",
              "3  1902                                 5444  ...  0.037641  0.034657\n",
              "4  1903                                 5806  ...  0.061442  0.010341\n",
              "5  1904                                 6132  ...  0.172253  0.050263\n",
              "6  1905                                 6626  ...  0.172678  0.166398\n",
              "7  1906                                 7237  ...  0.204111  0.136294\n",
              "8  1907                                 7832  ...  0.245909  0.092480\n",
              "9  1908                                 8220  ...  0.421296  0.038517\n",
              "\n",
              "[10 rows x 8 columns]"
            ]
          },
          "metadata": {
            "tags": []
          },
          "execution_count": 13
        }
      ]
    },
    {
      "cell_type": "code",
      "metadata": {
        "id": "HmI61qPtjlu7",
        "colab_type": "code",
        "colab": {
          "base_uri": "https://localhost:8080/",
          "height": 316
        },
        "outputId": "b57b2d19-db83-45c6-ec24-7d6c9fcc9ef0"
      },
      "source": [
        "plt.scatter(df_question_5[\"Ln (K/L)\"], df_question_5[\"Ln (Y/L)\"])\n",
        "plt.ylabel(\"Ln (Y/L) (Unitless)\")\n",
        "plt.xlabel(\"Ln (K/L) (Unitless)\")\n",
        "a, b = np.polyfit(df_question_5[\"Ln (K/L)\"], df_question_5[\"Ln (Y/L)\"], 1)\n",
        "plt.plot(np.unique(df_question_5[\"Ln (K/L)\"]), np.poly1d(np.polyfit(df_question_5[\"Ln (K/L)\"], df_question_5[\"Ln (Y/L)\"], 1))(np.unique(df_question_5[\"Ln (K/L)\"])),c=\"r\")\n",
        "plt.title(\"Cobb-Douglas Production Function\")\n",
        "plt.text(-.1,-0.2, \"Source: American Economic Association/The American Economic Review\")\n",
        "plt.show()"
      ],
      "execution_count": 14,
      "outputs": [
        {
          "output_type": "display_data",
          "data": {
            "image/png": "[encoded data removed]",
            "text/plain": [
              "<Figure size 432x288 with 1 Axes>"
            ]
          },
          "metadata": {
            "tags": []
          }
        }
      ]
    },
    {
      "cell_type": "markdown",
      "metadata": {
        "id": "cUQ7dyUXn93M",
        "colab_type": "text"
      },
      "source": [
        "2.2.2.(c)"
      ]
    },
    {
      "cell_type": "code",
      "metadata": {
        "id": "DQIaoQ1ikTAE",
        "colab_type": "code",
        "colab": {
          "base_uri": "https://localhost:8080/",
          "height": 70
        },
        "outputId": "3c1af03c-2ef5-492e-eec9-59c7cc1868d8"
      },
      "source": [
        "print (\"Coefficient of Capital/Slope:\", a)\n",
        "print (\"Intercept:\", b)\n",
        "print (\"Total Factor Productivity:\", np.round(np.exp(b),3))"
      ],
      "execution_count": 15,
      "outputs": [
        {
          "output_type": "stream",
          "text": [
            "Coefficient of Capital/Slope: 0.250983482641662\n",
            "Intercept: 0.018830244999121403\n",
            "Total Factor Productivity: 1.019\n"
          ],
          "name": "stdout"
        }
      ]
    },
    {
      "cell_type": "markdown",
      "metadata": {
        "id": "An_dOuP9oLEP",
        "colab_type": "text"
      },
      "source": [
        "My regression results agree with the results of Cobb-Douglas's when rounded to two decimal places"
      ]
    },
    {
      "cell_type": "code",
      "metadata": {
        "id": "sFsN7A52mP4s",
        "colab_type": "code",
        "colab": {
          "base_uri": "https://localhost:8080/",
          "height": 34
        },
        "outputId": "2700ee39-d628-4f67-e22d-4fcd3659c1ea"
      },
      "source": [
        "np.exp(b)"
      ],
      "execution_count": 16,
      "outputs": [
        {
          "output_type": "execute_result",
          "data": {
            "text/plain": [
              "1.0190086521196773"
            ]
          },
          "metadata": {
            "tags": []
          },
          "execution_count": 16
        }
      ]
    },
    {
      "cell_type": "code",
      "metadata": {
        "id": "jwrjsv2QmdMs",
        "colab_type": "code",
        "colab": {}
      },
      "source": [
        "#### 2.2.3 Question 6"
      ],
      "execution_count": 0,
      "outputs": []
    },
    {
      "cell_type": "markdown",
      "metadata": {
        "id": "koPqGlLErhS4",
        "colab_type": "text"
      },
      "source": [
        "#### 2.2.3 Question 6"
      ]
    },
    {
      "cell_type": "markdown",
      "metadata": {
        "id": "075AgVFLsWqx",
        "colab_type": "text"
      },
      "source": [
        "2.2.3 (a)"
      ]
    },
    {
      "cell_type": "code",
      "metadata": {
        "id": "s9ImOu4wrfRY",
        "colab_type": "code",
        "colab": {
          "base_uri": "https://localhost:8080/",
          "height": 227
        },
        "outputId": "c229b24e-effc-4843-fb0a-baf150530682"
      },
      "source": [
        "# Calculated Indices of Labor, Capital and Output Based on Year 1952\n",
        "df_question_6.head(6)"
      ],
      "execution_count": 18,
      "outputs": [
        {
          "output_type": "execute_result",
          "data": {
            "text/html": [
              "<div>\n",
              "<style scoped>\n",
              "    .dataframe tbody tr th:only-of-type {\n",
              "        vertical-align: middle;\n",
              "    }\n",
              "\n",
              "    .dataframe tbody tr th {\n",
              "        vertical-align: top;\n",
              "    }\n",
              "\n",
              "    .dataframe thead th {\n",
              "        text-align: right;\n",
              "    }\n",
              "</style>\n",
              "<table border=\"1\" class=\"dataframe\">\n",
              "  <thead>\n",
              "    <tr style=\"text-align: right;\">\n",
              "      <th></th>\n",
              "      <th>country</th>\n",
              "      <th>year</th>\n",
              "      <th>emp</th>\n",
              "      <th>cgdpe</th>\n",
              "      <th>cn</th>\n",
              "      <th>Index of Labor</th>\n",
              "      <th>Index of Capital</th>\n",
              "      <th>Index of Output</th>\n",
              "    </tr>\n",
              "  </thead>\n",
              "  <tbody>\n",
              "    <tr>\n",
              "      <th>0</th>\n",
              "      <td>China</td>\n",
              "      <td>1952</td>\n",
              "      <td>238.959076</td>\n",
              "      <td>616679.8750</td>\n",
              "      <td>335618.2813</td>\n",
              "      <td>100.000000</td>\n",
              "      <td>100.000000</td>\n",
              "      <td>100.000000</td>\n",
              "    </tr>\n",
              "    <tr>\n",
              "      <th>1</th>\n",
              "      <td>China</td>\n",
              "      <td>1953</td>\n",
              "      <td>244.866730</td>\n",
              "      <td>698142.5625</td>\n",
              "      <td>351050.9688</td>\n",
              "      <td>102.472245</td>\n",
              "      <td>104.598286</td>\n",
              "      <td>113.209883</td>\n",
              "    </tr>\n",
              "    <tr>\n",
              "      <th>2</th>\n",
              "      <td>China</td>\n",
              "      <td>1954</td>\n",
              "      <td>250.613724</td>\n",
              "      <td>642718.0000</td>\n",
              "      <td>368821.9063</td>\n",
              "      <td>104.877257</td>\n",
              "      <td>109.893271</td>\n",
              "      <td>104.222308</td>\n",
              "    </tr>\n",
              "    <tr>\n",
              "      <th>3</th>\n",
              "      <td>China</td>\n",
              "      <td>1955</td>\n",
              "      <td>256.240387</td>\n",
              "      <td>711235.0625</td>\n",
              "      <td>390270.7813</td>\n",
              "      <td>107.231912</td>\n",
              "      <td>116.284125</td>\n",
              "      <td>115.332945</td>\n",
              "    </tr>\n",
              "    <tr>\n",
              "      <th>4</th>\n",
              "      <td>China</td>\n",
              "      <td>1956</td>\n",
              "      <td>263.829926</td>\n",
              "      <td>748154.8750</td>\n",
              "      <td>427058.2188</td>\n",
              "      <td>110.407995</td>\n",
              "      <td>127.245220</td>\n",
              "      <td>121.319814</td>\n",
              "    </tr>\n",
              "    <tr>\n",
              "      <th>5</th>\n",
              "      <td>China</td>\n",
              "      <td>1957</td>\n",
              "      <td>272.241486</td>\n",
              "      <td>769214.1250</td>\n",
              "      <td>453914.5000</td>\n",
              "      <td>113.928079</td>\n",
              "      <td>135.247251</td>\n",
              "      <td>124.734754</td>\n",
              "    </tr>\n",
              "  </tbody>\n",
              "</table>\n",
              "</div>"
            ],
            "text/plain": [
              "  country  year         emp  ...  Index of Labor  Index of Capital  Index of Output\n",
              "0   China  1952  238.959076  ...      100.000000        100.000000       100.000000\n",
              "1   China  1953  244.866730  ...      102.472245        104.598286       113.209883\n",
              "2   China  1954  250.613724  ...      104.877257        109.893271       104.222308\n",
              "3   China  1955  256.240387  ...      107.231912        116.284125       115.332945\n",
              "4   China  1956  263.829926  ...      110.407995        127.245220       121.319814\n",
              "5   China  1957  272.241486  ...      113.928079        135.247251       124.734754\n",
              "\n",
              "[6 rows x 8 columns]"
            ]
          },
          "metadata": {
            "tags": []
          },
          "execution_count": 18
        }
      ]
    },
    {
      "cell_type": "code",
      "metadata": {
        "id": "KwJuLkv_r_WW",
        "colab_type": "code",
        "colab": {
          "base_uri": "https://localhost:8080/",
          "height": 347
        },
        "outputId": "26c72113-7e89-4a18-f82d-eed3c14722c8"
      },
      "source": [
        "# Log-Ratio\n",
        "add_column_log_ratios(df_question_6,\n",
        "                      \"Ln (K/L)\",\n",
        "                      df_question_6[\"Index of Capital\"],\n",
        "                      df_question_6[\"Index of Labor\"])\n",
        "add_column_log_ratios(df_question_6,\n",
        "                      \"Ln (Y/L)\",\n",
        "                      df_question_6[\"Index of Output\"],\n",
        "                      df_question_6[\"Index of Labor\"])\n",
        "df_question_6.head(10)"
      ],
      "execution_count": 19,
      "outputs": [
        {
          "output_type": "execute_result",
          "data": {
            "text/html": [
              "<div>\n",
              "<style scoped>\n",
              "    .dataframe tbody tr th:only-of-type {\n",
              "        vertical-align: middle;\n",
              "    }\n",
              "\n",
              "    .dataframe tbody tr th {\n",
              "        vertical-align: top;\n",
              "    }\n",
              "\n",
              "    .dataframe thead th {\n",
              "        text-align: right;\n",
              "    }\n",
              "</style>\n",
              "<table border=\"1\" class=\"dataframe\">\n",
              "  <thead>\n",
              "    <tr style=\"text-align: right;\">\n",
              "      <th></th>\n",
              "      <th>country</th>\n",
              "      <th>year</th>\n",
              "      <th>emp</th>\n",
              "      <th>cgdpe</th>\n",
              "      <th>cn</th>\n",
              "      <th>Index of Labor</th>\n",
              "      <th>Index of Capital</th>\n",
              "      <th>Index of Output</th>\n",
              "      <th>Ln (K/L)</th>\n",
              "      <th>Ln (Y/L)</th>\n",
              "    </tr>\n",
              "  </thead>\n",
              "  <tbody>\n",
              "    <tr>\n",
              "      <th>0</th>\n",
              "      <td>China</td>\n",
              "      <td>1952</td>\n",
              "      <td>238.959076</td>\n",
              "      <td>616679.8750</td>\n",
              "      <td>335618.2813</td>\n",
              "      <td>100.000000</td>\n",
              "      <td>100.000000</td>\n",
              "      <td>100.000000</td>\n",
              "      <td>0.000000</td>\n",
              "      <td>0.000000</td>\n",
              "    </tr>\n",
              "    <tr>\n",
              "      <th>1</th>\n",
              "      <td>China</td>\n",
              "      <td>1953</td>\n",
              "      <td>244.866730</td>\n",
              "      <td>698142.5625</td>\n",
              "      <td>351050.9688</td>\n",
              "      <td>102.472245</td>\n",
              "      <td>104.598286</td>\n",
              "      <td>113.209883</td>\n",
              "      <td>0.020535</td>\n",
              "      <td>0.099651</td>\n",
              "    </tr>\n",
              "    <tr>\n",
              "      <th>2</th>\n",
              "      <td>China</td>\n",
              "      <td>1954</td>\n",
              "      <td>250.613724</td>\n",
              "      <td>642718.0000</td>\n",
              "      <td>368821.9063</td>\n",
              "      <td>104.877257</td>\n",
              "      <td>109.893271</td>\n",
              "      <td>104.222308</td>\n",
              "      <td>0.046719</td>\n",
              "      <td>-0.006264</td>\n",
              "    </tr>\n",
              "    <tr>\n",
              "      <th>3</th>\n",
              "      <td>China</td>\n",
              "      <td>1955</td>\n",
              "      <td>256.240387</td>\n",
              "      <td>711235.0625</td>\n",
              "      <td>390270.7813</td>\n",
              "      <td>107.231912</td>\n",
              "      <td>116.284125</td>\n",
              "      <td>115.332945</td>\n",
              "      <td>0.081043</td>\n",
              "      <td>0.072829</td>\n",
              "    </tr>\n",
              "    <tr>\n",
              "      <th>4</th>\n",
              "      <td>China</td>\n",
              "      <td>1956</td>\n",
              "      <td>263.829926</td>\n",
              "      <td>748154.8750</td>\n",
              "      <td>427058.2188</td>\n",
              "      <td>110.407995</td>\n",
              "      <td>127.245220</td>\n",
              "      <td>121.319814</td>\n",
              "      <td>0.141934</td>\n",
              "      <td>0.094248</td>\n",
              "    </tr>\n",
              "    <tr>\n",
              "      <th>5</th>\n",
              "      <td>China</td>\n",
              "      <td>1957</td>\n",
              "      <td>272.241486</td>\n",
              "      <td>769214.1250</td>\n",
              "      <td>453914.5000</td>\n",
              "      <td>113.928079</td>\n",
              "      <td>135.247251</td>\n",
              "      <td>124.734754</td>\n",
              "      <td>0.171537</td>\n",
              "      <td>0.090622</td>\n",
              "    </tr>\n",
              "    <tr>\n",
              "      <th>6</th>\n",
              "      <td>China</td>\n",
              "      <td>1958</td>\n",
              "      <td>292.516815</td>\n",
              "      <td>755777.5625</td>\n",
              "      <td>490738.9375</td>\n",
              "      <td>122.412934</td>\n",
              "      <td>146.219370</td>\n",
              "      <td>122.555899</td>\n",
              "      <td>0.177708</td>\n",
              "      <td>0.001167</td>\n",
              "    </tr>\n",
              "    <tr>\n",
              "      <th>7</th>\n",
              "      <td>China</td>\n",
              "      <td>1959</td>\n",
              "      <td>304.346558</td>\n",
              "      <td>694574.4375</td>\n",
              "      <td>560070.3125</td>\n",
              "      <td>127.363464</td>\n",
              "      <td>166.877177</td>\n",
              "      <td>112.631280</td>\n",
              "      <td>0.270213</td>\n",
              "      <td>-0.122925</td>\n",
              "    </tr>\n",
              "    <tr>\n",
              "      <th>8</th>\n",
              "      <td>China</td>\n",
              "      <td>1960</td>\n",
              "      <td>294.654388</td>\n",
              "      <td>661612.8125</td>\n",
              "      <td>619764.5625</td>\n",
              "      <td>123.307469</td>\n",
              "      <td>184.663529</td>\n",
              "      <td>107.286266</td>\n",
              "      <td>0.403854</td>\n",
              "      <td>-0.139180</td>\n",
              "    </tr>\n",
              "    <tr>\n",
              "      <th>9</th>\n",
              "      <td>China</td>\n",
              "      <td>1961</td>\n",
              "      <td>284.967987</td>\n",
              "      <td>579815.9375</td>\n",
              "      <td>632326.9375</td>\n",
              "      <td>119.253887</td>\n",
              "      <td>188.406584</td>\n",
              "      <td>94.022192</td>\n",
              "      <td>0.457348</td>\n",
              "      <td>-0.237724</td>\n",
              "    </tr>\n",
              "  </tbody>\n",
              "</table>\n",
              "</div>"
            ],
            "text/plain": [
              "  country  year         emp  ...  Index of Output  Ln (K/L)  Ln (Y/L)\n",
              "0   China  1952  238.959076  ...       100.000000  0.000000  0.000000\n",
              "1   China  1953  244.866730  ...       113.209883  0.020535  0.099651\n",
              "2   China  1954  250.613724  ...       104.222308  0.046719 -0.006264\n",
              "3   China  1955  256.240387  ...       115.332945  0.081043  0.072829\n",
              "4   China  1956  263.829926  ...       121.319814  0.141934  0.094248\n",
              "5   China  1957  272.241486  ...       124.734754  0.171537  0.090622\n",
              "6   China  1958  292.516815  ...       122.555899  0.177708  0.001167\n",
              "7   China  1959  304.346558  ...       112.631280  0.270213 -0.122925\n",
              "8   China  1960  294.654388  ...       107.286266  0.403854 -0.139180\n",
              "9   China  1961  284.967987  ...        94.022192  0.457348 -0.237724\n",
              "\n",
              "[10 rows x 10 columns]"
            ]
          },
          "metadata": {
            "tags": []
          },
          "execution_count": 19
        }
      ]
    },
    {
      "cell_type": "code",
      "metadata": {
        "id": "35VltfJLsoOn",
        "colab_type": "code",
        "colab": {
          "base_uri": "https://localhost:8080/",
          "height": 316
        },
        "outputId": "659a9855-a857-4ba1-f68e-b3f387ad9c9a"
      },
      "source": [
        "#Using Regression Model, and Graphing of Log Ratio from Question 5\n",
        "plt.scatter(df_question_6[\"Ln (K/L)\"], df_question_6[\"Ln (Y/L)\"])\n",
        "plt.ylabel(\"Ln (Y/L) (Unitless)\")\n",
        "plt.xlabel(\"Ln (K/L) (Unitless)\")\n",
        "a_6, b_6 = np.polyfit(df_question_6[\"Ln (K/L)\"], df_question_6[\"Ln (Y/L)\"], 1)\n",
        "plt.plot(np.unique(df_question_6[\"Ln (K/L)\"]), np.poly1d(np.polyfit(df_question_6[\"Ln (K/L)\"], df_question_6[\"Ln (Y/L)\"], 1))(np.unique(df_question_6[\"Ln (K/L)\"])),c=\"r\")\n",
        "plt.title(\"Cobb-Douglas Production Function for China\")\n",
        "plt.text(-.1,-1, \"Source: Penn World Table Database/American Economic Review\")\n",
        "plt.show()"
      ],
      "execution_count": 20,
      "outputs": [
        {
          "output_type": "display_data",
          "data": {
            "image/png": "[encoded data removed]",
            "text/plain": [
              "<Figure size 432x288 with 1 Axes>"
            ]
          },
          "metadata": {
            "tags": []
          }
        }
      ]
    },
    {
      "cell_type": "markdown",
      "metadata": {
        "id": "WISp3JI5te2B",
        "colab_type": "text"
      },
      "source": [
        "2.2.3.(b)"
      ]
    },
    {
      "cell_type": "code",
      "metadata": {
        "id": "C_P5ykE7s-Xv",
        "colab_type": "code",
        "colab": {
          "base_uri": "https://localhost:8080/",
          "height": 70
        },
        "outputId": "37ab05cc-5161-4466-9163-c83e4816e097"
      },
      "source": [
        "print (\"Coefficient of Capital/Slope:\", a_6)\n",
        "print (\"Intercept:\", b_6)\n",
        "print (\"Total Factor Productivity:\", np.exp(b_6))"
      ],
      "execution_count": 21,
      "outputs": [
        {
          "output_type": "stream",
          "text": [
            "Coefficient of Capital/Slope: 0.5169682422065114\n",
            "Intercept: -0.17429428877913705\n",
            "Total Factor Productivity: 0.8400496440940661\n"
          ],
          "name": "stdout"
        }
      ]
    },
    {
      "cell_type": "markdown",
      "metadata": {
        "id": "ezf0tAJntjvj",
        "colab_type": "text"
      },
      "source": [
        "We see that the coefficient of capital is almost double for China in Question 6 as compared to the case in Question  5, and Total Factor Productivity: is smaller for China. The smaller Total Factor Productivity for China shows less effectiveness with which the factors of production are used. While the larger coefficient of capital shows an increase in capital would lead to a larger increase in output in question 6."
      ]
    },
    {
      "cell_type": "code",
      "metadata": {
        "id": "jFWWpjpctcdP",
        "colab_type": "code",
        "colab": {}
      },
      "source": [
        ""
      ],
      "execution_count": 0,
      "outputs": []
    }
  ]
}